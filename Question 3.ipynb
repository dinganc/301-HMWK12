{
 "cells": [
  {
   "cell_type": "code",
   "execution_count": 5,
   "metadata": {
    "collapsed": true
   },
   "outputs": [],
   "source": [
    "import networkx as nx\n",
    "import matplotlib.pyplot as plt\n",
    "import warnings\n",
    "import pandas as pd\n",
    "import itertools\n",
    "warnings.filterwarnings('ignore')"
   ]
  },
  {
   "cell_type": "code",
   "execution_count": 6,
   "metadata": {
    "collapsed": true
   },
   "outputs": [],
   "source": [
    "D=nx.read_edgelist(\"a1.csv\",delimiter=',')"
   ]
  },
  {
   "cell_type": "code",
   "execution_count": 7,
   "metadata": {
    "collapsed": true
   },
   "outputs": [],
   "source": [
    "R = D.to_undirected()"
   ]
  },
  {
   "cell_type": "code",
   "execution_count": 8,
   "metadata": {
    "collapsed": false
   },
   "outputs": [
    {
     "data": {
      "image/png": "[encoded data removed]",
      "text/plain": [
       "<matplotlib.figure.Figure at 0xa1d6160>"
      ]
     },
     "metadata": {},
     "output_type": "display_data"
    }
   ],
   "source": [
    "for node in R.nodes():\n",
    "    if R.degree(node)==0:\n",
    "        R.remove_node(node)\n",
    "nx.draw(R,with_labels=True)\n",
    "plt.show()"
   ]
  },
  {
   "cell_type": "code",
   "execution_count": 9,
   "metadata": {
    "collapsed": false
   },
   "outputs": [
    {
     "name": "stdout",
     "output_type": "stream",
     "text": [
      "[('k', 4), ('f', 4), ('h', 3), ('c', 3), ('m', 3), ('e', 3), ('d', 3), ('n', 3), ('l', 3), ('i', 3), ('g', 1), ('j', 1)]\n"
     ]
    }
   ],
   "source": [
    "degree_dic={}\n",
    "for node in R.nodes():\n",
    "    degree_dic[node]=R.degree(node)\n",
    "print(sorted(degree_dic.items(),key=lambda x:x[1],reverse=True))"
   ]
  },
  {
   "cell_type": "code",
   "execution_count": 10,
   "metadata": {
    "collapsed": false
   },
   "outputs": [
    {
     "name": "stdout",
     "output_type": "stream",
     "text": [
      "[('g', 'h', 'c'), ('g', 'h', 'm'), ('g', 'h', 'e'), ('g', 'h', 'k'), ('g', 'h', 'd'), ('g', 'h', 'n'), ('g', 'h', 'f'), ('g', 'h', 'l'), ('g', 'h', 'i'), ('g', 'h', 'j'), ('g', 'c', 'm'), ('g', 'c', 'e'), ('g', 'c', 'k'), ('g', 'c', 'd'), ('g', 'c', 'n'), ('g', 'c', 'f'), ('g', 'c', 'l'), ('g', 'c', 'i'), ('g', 'c', 'j'), ('g', 'm', 'e'), ('g', 'm', 'k'), ('g', 'm', 'd'), ('g', 'm', 'n'), ('g', 'm', 'f'), ('g', 'm', 'l'), ('g', 'm', 'i'), ('g', 'm', 'j'), ('g', 'e', 'k'), ('g', 'e', 'd'), ('g', 'e', 'n'), ('g', 'e', 'f'), ('g', 'e', 'l'), ('g', 'e', 'i'), ('g', 'e', 'j'), ('g', 'k', 'd'), ('g', 'k', 'n'), ('g', 'k', 'f'), ('g', 'k', 'l'), ('g', 'k', 'i'), ('g', 'k', 'j'), ('g', 'd', 'n'), ('g', 'd', 'f'), ('g', 'd', 'l'), ('g', 'd', 'i'), ('g', 'd', 'j'), ('g', 'n', 'f'), ('g', 'n', 'l'), ('g', 'n', 'i'), ('g', 'n', 'j'), ('g', 'f', 'l'), ('g', 'f', 'i'), ('g', 'f', 'j'), ('g', 'l', 'i'), ('g', 'l', 'j'), ('g', 'i', 'j'), ('h', 'c', 'm'), ('h', 'c', 'e'), ('h', 'c', 'k'), ('h', 'c', 'd'), ('h', 'c', 'n'), ('h', 'c', 'f'), ('h', 'c', 'l'), ('h', 'c', 'i'), ('h', 'c', 'j'), ('h', 'm', 'e'), ('h', 'm', 'k'), ('h', 'm', 'd'), ('h', 'm', 'n'), ('h', 'm', 'f'), ('h', 'm', 'l'), ('h', 'm', 'i'), ('h', 'm', 'j'), ('h', 'e', 'k'), ('h', 'e', 'd'), ('h', 'e', 'n'), ('h', 'e', 'f'), ('h', 'e', 'l'), ('h', 'e', 'i'), ('h', 'e', 'j'), ('h', 'k', 'd'), ('h', 'k', 'n'), ('h', 'k', 'f'), ('h', 'k', 'l'), ('h', 'k', 'i'), ('h', 'k', 'j'), ('h', 'd', 'n'), ('h', 'd', 'f'), ('h', 'd', 'l'), ('h', 'd', 'i'), ('h', 'd', 'j'), ('h', 'n', 'f'), ('h', 'n', 'l'), ('h', 'n', 'i'), ('h', 'n', 'j'), ('h', 'f', 'l'), ('h', 'f', 'i'), ('h', 'f', 'j'), ('h', 'l', 'i'), ('h', 'l', 'j'), ('h', 'i', 'j'), ('c', 'm', 'e'), ('c', 'm', 'k'), ('c', 'm', 'd'), ('c', 'm', 'n'), ('c', 'm', 'f'), ('c', 'm', 'l'), ('c', 'm', 'i'), ('c', 'm', 'j'), ('c', 'e', 'k'), ('c', 'e', 'd'), ('c', 'e', 'n'), ('c', 'e', 'f'), ('c', 'e', 'l'), ('c', 'e', 'i'), ('c', 'e', 'j'), ('c', 'k', 'd'), ('c', 'k', 'n'), ('c', 'k', 'f'), ('c', 'k', 'l'), ('c', 'k', 'i'), ('c', 'k', 'j'), ('c', 'd', 'n'), ('c', 'd', 'f'), ('c', 'd', 'l'), ('c', 'd', 'i'), ('c', 'd', 'j'), ('c', 'n', 'f'), ('c', 'n', 'l'), ('c', 'n', 'i'), ('c', 'n', 'j'), ('c', 'f', 'l'), ('c', 'f', 'i'), ('c', 'f', 'j'), ('c', 'l', 'i'), ('c', 'l', 'j'), ('c', 'i', 'j'), ('m', 'e', 'k'), ('m', 'e', 'd'), ('m', 'e', 'n'), ('m', 'e', 'f'), ('m', 'e', 'l'), ('m', 'e', 'i'), ('m', 'e', 'j'), ('m', 'k', 'd'), ('m', 'k', 'n'), ('m', 'k', 'f'), ('m', 'k', 'l'), ('m', 'k', 'i'), ('m', 'k', 'j'), ('m', 'd', 'n'), ('m', 'd', 'f'), ('m', 'd', 'l'), ('m', 'd', 'i'), ('m', 'd', 'j'), ('m', 'n', 'f'), ('m', 'n', 'l'), ('m', 'n', 'i'), ('m', 'n', 'j'), ('m', 'f', 'l'), ('m', 'f', 'i'), ('m', 'f', 'j'), ('m', 'l', 'i'), ('m', 'l', 'j'), ('m', 'i', 'j'), ('e', 'k', 'd'), ('e', 'k', 'n'), ('e', 'k', 'f'), ('e', 'k', 'l'), ('e', 'k', 'i'), ('e', 'k', 'j'), ('e', 'd', 'n'), ('e', 'd', 'f'), ('e', 'd', 'l'), ('e', 'd', 'i'), ('e', 'd', 'j'), ('e', 'n', 'f'), ('e', 'n', 'l'), ('e', 'n', 'i'), ('e', 'n', 'j'), ('e', 'f', 'l'), ('e', 'f', 'i'), ('e', 'f', 'j'), ('e', 'l', 'i'), ('e', 'l', 'j'), ('e', 'i', 'j'), ('k', 'd', 'n'), ('k', 'd', 'f'), ('k', 'd', 'l'), ('k', 'd', 'i'), ('k', 'd', 'j'), ('k', 'n', 'f'), ('k', 'n', 'l'), ('k', 'n', 'i'), ('k', 'n', 'j'), ('k', 'f', 'l'), ('k', 'f', 'i'), ('k', 'f', 'j'), ('k', 'l', 'i'), ('k', 'l', 'j'), ('k', 'i', 'j'), ('d', 'n', 'f'), ('d', 'n', 'l'), ('d', 'n', 'i'), ('d', 'n', 'j'), ('d', 'f', 'l'), ('d', 'f', 'i'), ('d', 'f', 'j'), ('d', 'l', 'i'), ('d', 'l', 'j'), ('d', 'i', 'j'), ('n', 'f', 'l'), ('n', 'f', 'i'), ('n', 'f', 'j'), ('n', 'l', 'i'), ('n', 'l', 'j'), ('n', 'i', 'j'), ('f', 'l', 'i'), ('f', 'l', 'j'), ('f', 'i', 'j'), ('l', 'i', 'j')]\n"
     ]
    }
   ],
   "source": [
    "nodepair=[]\n",
    "for node in R.nodes():\n",
    "    subpair=[]\n",
    "    subpair.append(node)\n",
    "    for i in R.nodes():\n",
    "        if i not in subpair:\n",
    "            subpair.append(i)\n",
    "            for j in R.nodes():\n",
    "                if j not in subpair:\n",
    "                    subpair.append(j)\n",
    "    nodepair.append(subpair)\n",
    "\n",
    "\n",
    "nodepair=[i for i in itertools.combinations(R.nodes(), 3)]\n",
    "print (nodepair)"
   ]
  },
  {
   "cell_type": "code",
   "execution_count": 12,
   "metadata": {
    "collapsed": false
   },
   "outputs": [
    {
     "name": "stdout",
     "output_type": "stream",
     "text": [
      "[('h', 2), ('i', 2), ('g', 1), ('c', 1), ('m', 1), ('e', 1), ('k', 1), ('d', 1), ('n', 1), ('f', 1), ('l', 1), ('j', 1)]\n",
      "total num of nodes 12\n"
     ]
    }
   ],
   "source": [
    "threshold=1/2\n",
    "affect_result={}\n",
    "for node in R.nodes():\n",
    "    num_of_affected_no_chg=False\n",
    "    not_affected=R.nodes()\n",
    "    affected=[]\n",
    "    total=R.nodes()\n",
    "    affected.append(node)\n",
    "    NNN=0\n",
    "    while num_of_affected_no_chg == False:\n",
    "        num_of_affected_before=len(affected)\n",
    "        for i in not_affected:\n",
    "            num_of_all_neighbors=0\n",
    "            num_of_affected_neighbors=0\n",
    "            num_of_all_neighbors=len(R.neighbors(i))\n",
    "            for j in R.neighbors(i):\n",
    "                if j in affected:num_of_affected_neighbors+=1\n",
    "            if num_of_affected_neighbors/num_of_all_neighbors>=threshold:\n",
    "                if i in affected:pass\n",
    "                else:affected.append(i)\n",
    "                not_affected.remove(i)\n",
    "        num_of_affected_after=len(affected)\n",
    "        if num_of_affected_before==num_of_affected_after:NNN+=1\n",
    "        if NNN>3:num_of_affected_no_chg=True\n",
    "    affect_result[node]=len(affected)\n",
    "print(sorted(affect_result.items(),key=lambda x:x[1],reverse=True))\n",
    "print(\"total num of nodes {}\".format(len(R.nodes())))"
   ]
  },
  {
   "cell_type": "code",
   "execution_count": null,
   "metadata": {
    "collapsed": true
   },
   "outputs": [],
   "source": []
  }
 ],
 "metadata": {
  "kernelspec": {
   "display_name": "Python 3",
   "language": "python",
   "name": "python3"
  },
  "language_info": {
   "codemirror_mode": {
    "name": "ipython",
    "version": 3
   },
   "file_extension": ".py",
   "mimetype": "text/x-python",
   "name": "python",
   "nbconvert_exporter": "python",
   "pygments_lexer": "ipython3",
   "version": "3.6.0"
  }
 },
 "nbformat": 4,
 "nbformat_minor": 2
}
