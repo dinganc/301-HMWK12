{
 "cells": [
  {
   "cell_type": "markdown",
   "metadata": {
    "collapsed": true
   },
   "source": [
    "## Analysis of the Class Social Network"
   ]
  },
  {
   "cell_type": "markdown",
   "metadata": {},
   "source": [
    "Today we will analyse an annoymized version of the class social network compiled with your help. We will use this network to revisit now familiar ideas about networks, introduce some new ideas, and have some fun exploring different aspects of the network using NetworkX"
   ]
  },
  {
   "cell_type": "markdown",
   "metadata": {},
   "source": [
    "### Importing packages\n",
    "\n",
    "As always, we start by importing NetworkX and other python packages necessary packages."
   ]
  },
  {
   "cell_type": "code",
   "execution_count": 10,
   "metadata": {
    "collapsed": true
   },
   "outputs": [],
   "source": [
    "import networkx as nx\n",
    "import matplotlib.pyplot as plt\n",
    "import warnings\n",
    "import pandas as pd \n",
    "warnings.filterwarnings('ignore')"
   ]
  },
  {
   "cell_type": "markdown",
   "metadata": {},
   "source": [
    "### Loading the Class Network\n",
    "\n",
    "In the survey we sent you at the beginning of the course we asked you to list the students you know in SI301. Many of you responded and using that data we have created an edgelist file. Each edge corresponds to an individual (first node) who declared that they knew someone else (second node). So this network is directed. Therefore, we will import the edgelist file as a directed network."
   ]
  },
  {
   "cell_type": "code",
   "execution_count": 11,
   "metadata": {
    "collapsed": true
   },
   "outputs": [],
   "source": [
    "#Import the file as a directed network\n",
    "D=nx.read_edgelist(\"annon_net.csv\",delimiter=',',create_using=nx.DiGraph())"
   ]
  },
  {
   "cell_type": "markdown",
   "metadata": {},
   "source": [
    "### Understanding a Directed Network"
   ]
  },
  {
   "cell_type": "markdown",
   "metadata": {},
   "source": [
    "We can find the number of nodes and edges in this network in the same manner as with an undirected network."
   ]
  },
  {
   "cell_type": "code",
   "execution_count": 12,
   "metadata": {
    "collapsed": false
   },
   "outputs": [
    {
     "data": {
      "text/plain": [
       "134"
      ]
     },
     "execution_count": 12,
     "metadata": {},
     "output_type": "execute_result"
    }
   ],
   "source": [
    "D.number_of_nodes()"
   ]
  },
  {
   "cell_type": "code",
   "execution_count": 13,
   "metadata": {
    "collapsed": false
   },
   "outputs": [
    {
     "data": {
      "text/plain": [
       "922"
      ]
     },
     "execution_count": 13,
     "metadata": {},
     "output_type": "execute_result"
    }
   ],
   "source": [
    "D.number_of_edges()"
   ]
  },
  {
   "cell_type": "markdown",
   "metadata": {},
   "source": [
    "#### Degree\n",
    "\n",
    "Each node in a directed graph has a two types of degree. ** In Degree** is the number of edges ending at the node and **Out Degree** is the number of edges starting from the node. When an edge starts from a node it can be considered the **source** of the edge and when an edge ends at a node it can be considered the **target** of the edge.\n",
    "\n",
    "Let's use NetworkX to find the in and out degrees of the first node in the netework.\n",
    "\n",
    "First find the first node."
   ]
  },
  {
   "cell_type": "code",
   "execution_count": 14,
   "metadata": {
    "collapsed": true
   },
   "outputs": [],
   "source": [
    "node = D.nodes()[0]"
   ]
  },
  {
   "cell_type": "markdown",
   "metadata": {},
   "source": [
    "#### In Degree"
   ]
  },
  {
   "cell_type": "code",
   "execution_count": 15,
   "metadata": {
    "collapsed": false
   },
   "outputs": [
    {
     "data": {
      "text/plain": [
       "16"
      ]
     },
     "execution_count": 15,
     "metadata": {},
     "output_type": "execute_result"
    }
   ],
   "source": [
    "D.in_degree(node) "
   ]
  },
  {
   "cell_type": "markdown",
   "metadata": {},
   "source": [
    "What does this mean given what you know about the network?"
   ]
  },
  {
   "cell_type": "markdown",
   "metadata": {},
   "source": [
    "#### Out Degree"
   ]
  },
  {
   "cell_type": "code",
   "execution_count": 16,
   "metadata": {
    "collapsed": false
   },
   "outputs": [
    {
     "data": {
      "text/plain": [
       "18"
      ]
     },
     "execution_count": 16,
     "metadata": {},
     "output_type": "execute_result"
    }
   ],
   "source": [
    "D.out_degree(node)"
   ]
  },
  {
   "cell_type": "markdown",
   "metadata": {},
   "source": [
    "What does this mean given what you know about the network? "
   ]
  },
  {
   "cell_type": "markdown",
   "metadata": {},
   "source": [
    "We can generate an undirected version of the network by considering all edges as undirected. Can we say anything about the degree of a node in the undirected graph using the In and Out Degree of this network? \n",
    "\n",
    "**Hint** : How does the degree in the directed graph compare to the  than one or both of the degrees in the directed network?"
   ]
  },
  {
   "cell_type": "code",
   "execution_count": 17,
   "metadata": {
    "collapsed": true
   },
   "outputs": [],
   "source": [
    "#undirected has smaller degree than THE TOTAL DEGREE OF directed because of double counting\n",
    "#but undirected has at least the largest degree of directed"
   ]
  },
  {
   "cell_type": "markdown",
   "metadata": {},
   "source": [
    "You can create this undirected network from the directed network as follows. This network converts all edges to undirected and removes any duplicates. Use it verify if your claim is true"
   ]
  },
  {
   "cell_type": "code",
   "execution_count": 18,
   "metadata": {
    "collapsed": true
   },
   "outputs": [],
   "source": [
    "U = D.to_undirected()"
   ]
  },
  {
   "cell_type": "code",
   "execution_count": 21,
   "metadata": {
    "collapsed": false
   },
   "outputs": [
    {
     "data": {
      "text/plain": [
       "617"
      ]
     },
     "execution_count": 21,
     "metadata": {},
     "output_type": "execute_result"
    }
   ],
   "source": [
    "nodeU = U.nodes()[0]\n",
    "U.degree(nodeU)\n",
    "U.number_of_edges()\n",
    "#directed:18 and 16, undirected 19"
   ]
  },
  {
   "cell_type": "markdown",
   "metadata": {},
   "source": [
    "### Reciprocity"
   ]
  },
  {
   "cell_type": "markdown",
   "metadata": {},
   "source": [
    "As you have probably noticed the In Degree and Out Degree of a node in a directed network need not be the same. i.e. having an edge from one node(A) to another node(B) doesn't gurantee that the edge from the second node(B) to the first node(A) also exists. When they do exist, however, we call them reciprocal edges.\n",
    "\n",
    "In the case of our network, having reciprocal edges between two students means that they both declared that knew each other."
   ]
  },
  {
   "cell_type": "markdown",
   "metadata": {},
   "source": [
    "#### Reciprocity in a network\n",
    "\n",
    "We call the fraction of edges that are reciprocated the \"reciprocity\" of the network. Calculate the reciprocity of our network."
   ]
  },
  {
   "cell_type": "markdown",
   "metadata": {},
   "source": [
    "**Hint**\n",
    " 1. Recall that you can use D.edges() to iterate through the edges of a network.\n",
    " 2. function D.has_edge(u,v) can tell your if there's an edge between nodes **u** and **v**"
   ]
  },
  {
   "cell_type": "code",
   "execution_count": 26,
   "metadata": {
    "collapsed": false
   },
   "outputs": [
    {
     "name": "stdout",
     "output_type": "stream",
     "text": [
      "Reciprocity of this network is : 0.66\n"
     ]
    }
   ],
   "source": [
    "reciprocated_count = 0 \n",
    "node_list=[i for i in D.nodes()]\n",
    "for i in node_list:\n",
    "    for j in node_list:\n",
    "        if D.has_edge(i,j):\n",
    "            if D.has_edge(j,i):\n",
    "                reciprocated_count+=1\n",
    "#Find the reciprocity by counting the number of reciprocated edges\n",
    "reciprocity=(reciprocated_count/D.number_of_edges())\n",
    "print(''.join([\"Reciprocity of this network is : \",str(round(reciprocity,2))]))"
   ]
  },
  {
   "cell_type": "markdown",
   "metadata": {},
   "source": [
    " What does this say about the friendships of an individual on average? "
   ]
  },
  {
   "cell_type": "code",
   "execution_count": 27,
   "metadata": {
    "collapsed": true
   },
   "outputs": [],
   "source": [
    "#about 66% of connections are reciparal\n",
    "#34% of people are at \"risk\" of thinking themselves in a frendship when it is not"
   ]
  },
  {
   "cell_type": "markdown",
   "metadata": {},
   "source": [
    "**Side note**\n",
    "\n",
    "Particularly when we have incomplete data like in this case, it  makes sense to create the undirected network by converting each pair of reciprocated edges in to a single undirected edge and removing any unreciprocated edges. This is because when there are reciprocated edges we can be more confident of the existence of a relationship between nodes. \n",
    "\n",
    "We can generate this type of undirected network from the directed network as follows\n",
    "  "
   ]
  },
  {
   "cell_type": "code",
   "execution_count": 28,
   "metadata": {
    "collapsed": true
   },
   "outputs": [],
   "source": [
    "R = D.to_undirected(reciprocal=True)"
   ]
  },
  {
   "cell_type": "markdown",
   "metadata": {},
   "source": [
    "What is the node that has the highest reciprocal degree? (Hint: Use R.degree())"
   ]
  },
  {
   "cell_type": "code",
   "execution_count": 44,
   "metadata": {
    "collapsed": false
   },
   "outputs": [
    {
     "name": "stdout",
     "output_type": "stream",
     "text": [
      "['5']\n",
      "nodes with the maximal reciprocal degree: 5\n",
      "maximum reciprocal degree is 19\n"
     ]
    }
   ],
   "source": [
    "r_degrees = R.degree()\n",
    "#max_deg_nodes = [sorted([(i,R.degree(i)) for i in R.nodes()],key=lambda x:x[1],reverse=True)[0][0]]\n",
    "max_deg_nodes = [i for i in R.nodes() if R.degree(i)== max([R.degree(i) for i in R.nodes()])]\n",
    "max_degree = max([R.degree(i) for i in R.nodes()])\n",
    "print (max_deg_nodes)\n",
    "#Fill in the code\n",
    "\n",
    "print(''.join([\"nodes with the maximal reciprocal degree: \"]+max_deg_nodes))\n",
    "print(''.join([\"maximum reciprocal degree is \",str(max_degree)]))"
   ]
  },
  {
   "cell_type": "markdown",
   "metadata": {},
   "source": [
    "### Strong and Weak Ties\n",
    "\n",
    "Let's use the idea of reciprocation to define strong and weak edges. Let's say that any edge in the undirected network(U) that corresponds to a pair of reciprocal edges in the directed network is a strong edge and that any edge that corresponds to an unreciprocated edge in the directed network is weak. Complete the function below to label each edge of the undirected network with an attribute **strength** using these definitions."
   ]
  },
  {
   "cell_type": "code",
   "execution_count": 45,
   "metadata": {
    "collapsed": false,
    "scrolled": true
   },
   "outputs": [
    {
     "ename": "IndentationError",
     "evalue": "expected an indented block (<ipython-input-45-944a482270ec>, line 6)",
     "output_type": "error",
     "traceback": [
      "\u001b[0;36m  File \u001b[0;32m\"<ipython-input-45-944a482270ec>\"\u001b[0;36m, line \u001b[0;32m6\u001b[0m\n\u001b[0;31m    else:\u001b[0m\n\u001b[0m       ^\u001b[0m\n\u001b[0;31mIndentationError\u001b[0m\u001b[0;31m:\u001b[0m expected an indented block\n"
     ]
    }
   ],
   "source": [
    "#fill in the code within the if-else conditions\n",
    "def label_edge_strength(u,d):\n",
    "    for e in d.edges():\n",
    "        if d.has_edge(e[1],e[0]):\n",
    "            if u.has_edge(e[1],e[0]):\n",
    "                \n",
    "        else:\n",
    "            #Fill in the code\n",
    "label_edge_strength(U,D)"
   ]
  },
  {
   "cell_type": "markdown",
   "metadata": {},
   "source": [
    "Now that we have labeled edges as **strong** and **weak**, we can find which nodes satisfy Strong Triadic Closure. We have a part of a function that that will return set of nodes that satisfy STC from the network. Complete the missing blocks."
   ]
  },
  {
   "cell_type": "code",
   "execution_count": null,
   "metadata": {
    "collapsed": true
   },
   "outputs": [],
   "source": [
    "def find_nodes_with_stc(G):\n",
    "    nodes_with_stc = []\n",
    "    for node in G.nodes():\n",
    "        is_stc = True\n",
    "        strong_tie_neighbors = []\n",
    "        for neighbor in G.neighbors(node):\n",
    "            #Fill in the code\n",
    "        for n1 in strong_tie_neighbors:\n",
    "            for n2 in strong_tie_neighbors:\n",
    "              #Fill in the code\n",
    "        if is_stc:\n",
    "            nodes_with_stc.append(node)\n",
    "    return nodes_with_stc\n",
    "stc_nodes = find_nodes_with_stc(U)   \n",
    "print(''.join([\"Number of nodes with STC : \",str(len(stc_nodes))]))"
   ]
  },
  {
   "cell_type": "markdown",
   "metadata": {},
   "source": [
    "Now let's try to visualize the network with the information we have collected. Let's say that we want to color our edges **red if they are weak** and **blue if they are strong**. Also, let the **nodes that satisfy STC be colored cyan** and **nodes that violate STC be colored gray**.\n",
    "Finally, we'll change the size of the nodes to correspond to the degree.\n",
    "\n",
    "Before we draw this network, what do you think about the degree of the nodes that satisfied STC? Are they likely to be higher or lower than average? "
   ]
  },
  {
   "cell_type": "code",
   "execution_count": null,
   "metadata": {
    "collapsed": true
   },
   "outputs": [],
   "source": []
  },
  {
   "cell_type": "code",
   "execution_count": null,
   "metadata": {
    "collapsed": true
   },
   "outputs": [],
   "source": [
    "edge_col_map = {'strong':\"b\",'weak':\"r\"}\n",
    "node_col_map = {True:\"cyan\",False: 'gray'}\n",
    "edge_colors = [edge_col_map[U.edge[edge[0]][edge[1]]['strength']] for edge in U.edges()]\n",
    "node_colors = [node_col_map[node in stc_nodes] for node in U.nodes()]\n",
    "node_size=[v * 100 for v in U.degree().values()]\n",
    "nx.draw(U,edge_color = edge_colors,node_color = node_colors,node_size=node_size,with_labels=True)\n",
    "plt.show()"
   ]
  },
  {
   "cell_type": "markdown",
   "metadata": {},
   "source": [
    "As you can see the visualization is a mess. There are a couple of things we can do. One is to make the plot larger. Let's try that."
   ]
  },
  {
   "cell_type": "code",
   "execution_count": null,
   "metadata": {
    "collapsed": true
   },
   "outputs": [],
   "source": [
    "plt.figure(figsize=(16,16)) \n",
    "nx.draw(U,edge_color = edge_colors,node_color = node_colors,node_size=node_size,with_labels=True)\n",
    "plt.show()"
   ]
  },
  {
   "cell_type": "markdown",
   "metadata": {},
   "source": [
    "This is much better. We can in general see that most of the nodes that satisfy STC have a low degree and many of them have less than 2 strong tie neighbors. Let's see if we can improve the visualization a bit more.\n",
    "Researchers have developed special algorithmic methods called layouts to arrange nodes and edges in a network to make it easier to visually identify their properties. We will use one called the spring layout."
   ]
  },
  {
   "cell_type": "code",
   "execution_count": null,
   "metadata": {
    "collapsed": true
   },
   "outputs": [],
   "source": [
    "plt.figure(figsize=(16,16)) \n",
    "pos=nx.spring_layout(U,k=0.13)\n",
    "nx.draw(U,pos,edge_color = edge_colors,node_color = node_colors,node_size=node_size,with_labels=True)\n",
    "plt.show()"
   ]
  },
  {
   "cell_type": "markdown",
   "metadata": {
    "collapsed": true
   },
   "source": [
    "### Homophily in terms of the mid-term grade\n",
    "\n",
    "One of the most interesting things about real network data like this is that we can test and observe relationships between structure of the network and other properties. \n",
    "\n",
    "For example, do you think there'd be homophily in this network in terms of the mid-term grade? \n",
    "We've created a file that contains for each student in the network whether or not their grade is **above** or **below** the class average. Let's use this dataset to check whether or not homophily is present in the network."
   ]
  },
  {
   "cell_type": "code",
   "execution_count": null,
   "metadata": {
    "collapsed": true
   },
   "outputs": [],
   "source": [
    "grades = pd.read_csv('mid_grades_above_below_mean.csv',index_col=None)\n",
    "grades[0:10]"
   ]
  },
  {
   "cell_type": "markdown",
   "metadata": {},
   "source": [
    "Complete the code block below to create a new node attribute **grade** in the undirected graph(U)"
   ]
  },
  {
   "cell_type": "code",
   "execution_count": null,
   "metadata": {
    "collapsed": true
   },
   "outputs": [],
   "source": [
    "for index,row in grades.iterrows():\n",
    "    #fill in the code to create a new node attribute"
   ]
  },
  {
   "cell_type": "markdown",
   "metadata": {},
   "source": [
    "Now let's use the homiphily test function we created in discussion 3 to find if the network has homophily in terms of the grade. Provide the correct arguments to the function call to find the answer"
   ]
  },
  {
   "cell_type": "code",
   "execution_count": null,
   "metadata": {
    "collapsed": true
   },
   "outputs": [],
   "source": [
    "def homophily_test(graph,attribute,default_value):\n",
    "    # First, you need to count how many employees there are in each group.\n",
    "    team_0 = 0\n",
    "    team_1 = 0\n",
    "    # We are going to iterate through all nodes in the graph and count how many nodes are there in each team.\n",
    "    for node in graph.nodes():\n",
    "        if graph.node[node][attribute] == default_value:\n",
    "            team_0 += 1\n",
    "        else:\n",
    "            team_1 += 1\n",
    "    # Then, you need to count how many edges are cross-group.\n",
    "    c = 0 \n",
    "    # Here, we are iterating through all edges in the graph. If two ends of the edge belong to different group,\n",
    "    # c will increase by 1. In the end, c will be the number of cross-type edges\n",
    "    for edge in graph.edges():\n",
    "        if graph.node[edge[0]][attribute] != graph.node[edge[1]][attribute]:\n",
    "            c += 1\n",
    "    \n",
    "    # Complete the following equation based on homophily test formula\n",
    "    # Attention: c is the total number of cross-type edges, we need one additional step to get the fraction\n",
    "    expect_percent = 2*team_0*team_1/(team_0+team_1)/(team_0+team_1)\n",
    "    cross_percent = c/len(graph.edges())\n",
    "    \n",
    "    return \"{0:.1f}% of edges are cross-group. The baseline is {1:.1f}%.\".format(cross_percent*100, expect_percent*100)\n",
    "homophily_test(?,?,?)"
   ]
  },
  {
   "cell_type": "markdown",
   "metadata": {},
   "source": [
    "So there's no evidence for homophily in the network for friendships based on above average or below performance during the mid-term (Note: If we used the median instead of the average there's a small signal for homphily). "
   ]
  },
  {
   "cell_type": "code",
   "execution_count": null,
   "metadata": {
    "collapsed": true
   },
   "outputs": [],
   "source": []
  }
 ],
 "metadata": {
  "kernelspec": {
   "display_name": "Python 3",
   "language": "python",
   "name": "python3"
  },
  "language_info": {
   "codemirror_mode": {
    "name": "ipython",
    "version": 3
   },
   "file_extension": ".py",
   "mimetype": "text/x-python",
   "name": "python",
   "nbconvert_exporter": "python",
   "pygments_lexer": "ipython3",
   "version": "3.6.0"
  }
 },
 "nbformat": 4,
 "nbformat_minor": 2
}
